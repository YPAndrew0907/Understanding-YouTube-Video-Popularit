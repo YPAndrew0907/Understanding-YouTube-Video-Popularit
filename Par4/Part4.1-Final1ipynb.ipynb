{
 "cells": [
  {
   "cell_type": "code",
   "execution_count": 1,
   "id": "effe51be-edf0-4187-9c1d-cfc1928f4108",
   "metadata": {},
   "outputs": [
    {
     "name": "stdout",
     "output_type": "stream",
     "text": [
      "Requirement already satisfied: tensorflow in /opt/miniconda3/lib/python3.12/site-packages (2.18.0)\n",
      "Requirement already satisfied: absl-py>=1.0.0 in /opt/miniconda3/lib/python3.12/site-packages (from tensorflow) (2.1.0)\n",
      "Requirement already satisfied: astunparse>=1.6.0 in /opt/miniconda3/lib/python3.12/site-packages (from tensorflow) (1.6.3)\n",
      "Requirement already satisfied: flatbuffers>=24.3.25 in /opt/miniconda3/lib/python3.12/site-packages (from tensorflow) (24.3.25)\n",
      "Requirement already satisfied: gast!=0.5.0,!=0.5.1,!=0.5.2,>=0.2.1 in /opt/miniconda3/lib/python3.12/site-packages (from tensorflow) (0.6.0)\n",
      "Requirement already satisfied: google-pasta>=0.1.1 in /opt/miniconda3/lib/python3.12/site-packages (from tensorflow) (0.2.0)\n",
      "Requirement already satisfied: libclang>=13.0.0 in /opt/miniconda3/lib/python3.12/site-packages (from tensorflow) (18.1.1)\n",
      "Requirement already satisfied: opt-einsum>=2.3.2 in /opt/miniconda3/lib/python3.12/site-packages (from tensorflow) (3.4.0)\n",
      "Requirement already satisfied: packaging in /opt/miniconda3/lib/python3.12/site-packages (from tensorflow) (24.1)\n",
      "Requirement already satisfied: protobuf!=4.21.0,!=4.21.1,!=4.21.2,!=4.21.3,!=4.21.4,!=4.21.5,<6.0.0dev,>=3.20.3 in /opt/miniconda3/lib/python3.12/site-packages (from tensorflow) (5.28.2)\n",
      "Requirement already satisfied: requests<3,>=2.21.0 in /opt/miniconda3/lib/python3.12/site-packages (from tensorflow) (2.32.3)\n",
      "Requirement already satisfied: setuptools in /opt/miniconda3/lib/python3.12/site-packages (from tensorflow) (72.1.0)\n",
      "Requirement already satisfied: six>=1.12.0 in /opt/miniconda3/lib/python3.12/site-packages (from tensorflow) (1.16.0)\n",
      "Requirement already satisfied: termcolor>=1.1.0 in /opt/miniconda3/lib/python3.12/site-packages (from tensorflow) (2.5.0)\n",
      "Requirement already satisfied: typing-extensions>=3.6.6 in /opt/miniconda3/lib/python3.12/site-packages (from tensorflow) (4.11.0)\n",
      "Requirement already satisfied: wrapt>=1.11.0 in /opt/miniconda3/lib/python3.12/site-packages (from tensorflow) (1.17.0)\n",
      "Requirement already satisfied: grpcio<2.0,>=1.24.3 in /opt/miniconda3/lib/python3.12/site-packages (from tensorflow) (1.68.0)\n",
      "Requirement already satisfied: tensorboard<2.19,>=2.18 in /opt/miniconda3/lib/python3.12/site-packages (from tensorflow) (2.18.0)\n",
      "Requirement already satisfied: keras>=3.5.0 in /opt/miniconda3/lib/python3.12/site-packages (from tensorflow) (3.7.0)\n",
      "Requirement already satisfied: numpy<2.1.0,>=1.26.0 in /opt/miniconda3/lib/python3.12/site-packages (from tensorflow) (1.26.4)\n",
      "Requirement already satisfied: h5py>=3.11.0 in /opt/miniconda3/lib/python3.12/site-packages (from tensorflow) (3.12.1)\n",
      "Requirement already satisfied: ml-dtypes<0.5.0,>=0.4.0 in /opt/miniconda3/lib/python3.12/site-packages (from tensorflow) (0.4.1)\n",
      "Requirement already satisfied: wheel<1.0,>=0.23.0 in /opt/miniconda3/lib/python3.12/site-packages (from astunparse>=1.6.0->tensorflow) (0.43.0)\n",
      "Requirement already satisfied: rich in /opt/miniconda3/lib/python3.12/site-packages (from keras>=3.5.0->tensorflow) (13.9.4)\n",
      "Requirement already satisfied: namex in /opt/miniconda3/lib/python3.12/site-packages (from keras>=3.5.0->tensorflow) (0.0.8)\n",
      "Requirement already satisfied: optree in /opt/miniconda3/lib/python3.12/site-packages (from keras>=3.5.0->tensorflow) (0.13.1)\n",
      "Requirement already satisfied: charset-normalizer<4,>=2 in /opt/miniconda3/lib/python3.12/site-packages (from requests<3,>=2.21.0->tensorflow) (3.3.2)\n",
      "Requirement already satisfied: idna<4,>=2.5 in /opt/miniconda3/lib/python3.12/site-packages (from requests<3,>=2.21.0->tensorflow) (3.7)\n",
      "Requirement already satisfied: urllib3<3,>=1.21.1 in /opt/miniconda3/lib/python3.12/site-packages (from requests<3,>=2.21.0->tensorflow) (2.2.2)\n",
      "Requirement already satisfied: certifi>=2017.4.17 in /opt/miniconda3/lib/python3.12/site-packages (from requests<3,>=2.21.0->tensorflow) (2024.7.4)\n",
      "Requirement already satisfied: markdown>=2.6.8 in /opt/miniconda3/lib/python3.12/site-packages (from tensorboard<2.19,>=2.18->tensorflow) (3.7)\n",
      "Requirement already satisfied: tensorboard-data-server<0.8.0,>=0.7.0 in /opt/miniconda3/lib/python3.12/site-packages (from tensorboard<2.19,>=2.18->tensorflow) (0.7.2)\n",
      "Requirement already satisfied: werkzeug>=1.0.1 in /opt/miniconda3/lib/python3.12/site-packages (from tensorboard<2.19,>=2.18->tensorflow) (3.1.3)\n",
      "Requirement already satisfied: MarkupSafe>=2.1.1 in /opt/miniconda3/lib/python3.12/site-packages (from werkzeug>=1.0.1->tensorboard<2.19,>=2.18->tensorflow) (2.1.3)\n",
      "Requirement already satisfied: markdown-it-py>=2.2.0 in /opt/miniconda3/lib/python3.12/site-packages (from rich->keras>=3.5.0->tensorflow) (3.0.0)\n",
      "Requirement already satisfied: pygments<3.0.0,>=2.13.0 in /opt/miniconda3/lib/python3.12/site-packages (from rich->keras>=3.5.0->tensorflow) (2.15.1)\n",
      "Requirement already satisfied: mdurl~=0.1 in /opt/miniconda3/lib/python3.12/site-packages (from markdown-it-py>=2.2.0->rich->keras>=3.5.0->tensorflow) (0.1.2)\n",
      "Note: you may need to restart the kernel to use updated packages.\n"
     ]
    }
   ],
   "source": [
    "pip install tensorflow\n"
   ]
  },
  {
   "cell_type": "code",
   "execution_count": 2,
   "id": "771f21d7-5797-45b0-819c-145d28481149",
   "metadata": {},
   "outputs": [],
   "source": [
    "import pandas as pd\n",
    "import numpy as np\n",
    "from sklearn.model_selection import train_test_split\n",
    "from sklearn.preprocessing import MinMaxScaler\n",
    "from tensorflow.keras.models import Sequential\n",
    "from tensorflow.keras.layers import LSTM, Dense, Dropout\n",
    "import matplotlib.pyplot as plt"
   ]
  },
  {
   "cell_type": "code",
   "execution_count": 3,
   "id": "5a22c47a-670a-4df1-aed8-2f25fbf3067a",
   "metadata": {},
   "outputs": [],
   "source": [
    "data = pd.read_csv('Final_30_sessions_re_categorize.csv')"
   ]
  },
  {
   "cell_type": "code",
   "execution_count": 4,
   "id": "f3ab0d37-e3a4-4935-b70e-29460fab406c",
   "metadata": {},
   "outputs": [
    {
     "name": "stdout",
     "output_type": "stream",
     "text": [
      "Original Dataset:\n",
      "      Video ID  Session  View Count  Like Count  Comment Count Video Category  \\\n",
      "0  mb5ldcr1jbA        1      273046        1273              0           Info   \n",
      "1  rtLGwJF9Jxc        1       93939         568              0     Recreation   \n",
      "2  HAOgdVdSSkA        1      647685           0              6           Info   \n",
      "3  WWeOBvAvwrY        1       41646        6085            998           Info   \n",
      "4  WunqF6zQnbI        1       52315        1747             27           Info   \n",
      "\n",
      "    Video Published At  \n",
      "0  2024-10-21 19:10:34  \n",
      "1  2024-10-21 18:45:33  \n",
      "2  2024-10-21 18:41:24  \n",
      "3  2024-10-21 18:31:26  \n",
      "4  2024-10-21 18:10:08  \n"
     ]
    }
   ],
   "source": [
    "print(\"Original Dataset:\")\n",
    "print(data.head())"
   ]
  },
  {
   "cell_type": "code",
   "execution_count": 5,
   "id": "e4fffc35-15ec-4e4b-8689-01a04b696f72",
   "metadata": {},
   "outputs": [],
   "source": [
    "# Step 2: Fill Missing Video IDs in Sessions\n",
    "# Create a full grid of all sessions and video IDs\n",
    "unique_sessions = data['Session'].unique()\n",
    "unique_videos = data['Video ID'].unique()\n",
    "\n",
    "# Generate a complete grid\n",
    "complete_grid = pd.MultiIndex.from_product(\n",
    "    [unique_sessions, unique_videos], names=['Session', 'Video ID']\n",
    ").to_frame(index=False)"
   ]
  },
  {
   "cell_type": "code",
   "execution_count": 6,
   "id": "ca51451c-56fd-4f16-a310-145614b4a928",
   "metadata": {},
   "outputs": [],
   "source": [
    "# Merge the complete grid with the dataset\n",
    "data_filled = pd.merge(complete_grid, data, on=['Session', 'Video ID'], how='left')"
   ]
  },
  {
   "cell_type": "code",
   "execution_count": 7,
   "id": "ca33be38-7f9e-4a74-99f4-f34a43dd1484",
   "metadata": {},
   "outputs": [],
   "source": [
    "data_filled['View Count'] = data_filled['View Count'].fillna(0)\n",
    "data_filled['Like Count'] = data_filled['Like Count'].fillna(0)\n",
    "data_filled['Comment Count'] = data_filled['Comment Count'].fillna(0)\n",
    "data_filled['Video Category'] = data_filled['Video Category'].fillna('Unknown')"
   ]
  },
  {
   "cell_type": "code",
   "execution_count": 8,
   "id": "bf354e5f-5ec5-4384-9075-adaac2aeed87",
   "metadata": {},
   "outputs": [],
   "source": [
    "# Sort the data by Session and Video ID\n",
    "data_filled = data_filled.sort_values(by=['Session', 'Video ID']).reset_index(drop=True)"
   ]
  },
  {
   "cell_type": "code",
   "execution_count": 9,
   "id": "6b81069e-4e3d-4acf-9139-5e3804aa0de3",
   "metadata": {},
   "outputs": [
    {
     "name": "stdout",
     "output_type": "stream",
     "text": [
      "Filled Dataset:\n",
      "    Session     Video ID  View Count  Like Count  Comment Count  \\\n",
      "0         1  -n0waD4qzI4     16245.0       412.0            6.0   \n",
      "1         1  00-9NCfhVF8     12343.0      1634.0           28.0   \n",
      "2         1  3s6uanj_5DY      9183.0       679.0           70.0   \n",
      "3         1  6iG4Zp8HLOA    220840.0      4425.0            0.0   \n",
      "4         1  6kKE4Rurmmk      7085.0       693.0           77.0   \n",
      "..      ...          ...         ...         ...            ...   \n",
      "95        2  uDVNRYxIMRE     75634.0       354.0            0.0   \n",
      "96        2  uDvNq7vtGnM      5025.0       182.0           40.0   \n",
      "97        2  yGLEpVbJm40   1164984.0     31060.0         7651.0   \n",
      "98        2  zToiY455lhQ    807003.0    132297.0         2574.0   \n",
      "99        2  zZsgnPmP6lg     36639.0      3743.0           19.0   \n",
      "\n",
      "   Video Category   Video Published At  \n",
      "0      Recreation  2024-10-21 15:00:06  \n",
      "1      Recreation  2024-10-21 11:50:09  \n",
      "2      Recreation  2024-10-21 14:26:44  \n",
      "3            Info  2024-10-21 12:52:07  \n",
      "4      Recreation  2024-10-21 16:11:11  \n",
      "..            ...                  ...  \n",
      "95     Recreation  2024-10-21 15:00:59  \n",
      "96     Recreation  2024-10-21 17:38:38  \n",
      "97           Info  2024-10-21 13:01:10  \n",
      "98     Recreation  2024-10-21 15:06:25  \n",
      "99           Info  2024-10-21 12:16:34  \n",
      "\n",
      "[100 rows x 7 columns]\n"
     ]
    }
   ],
   "source": [
    "print(\"Filled Dataset:\")\n",
    "print(data_filled.head(100))"
   ]
  },
  {
   "cell_type": "code",
   "execution_count": 10,
   "id": "ea5b0b20-4298-4c41-ac81-6afce45e6990",
   "metadata": {},
   "outputs": [],
   "source": [
    "features = ['View Count', 'Like Count', 'Comment Count']\n",
    "scaler = MinMaxScaler()"
   ]
  },
  {
   "cell_type": "code",
   "execution_count": 11,
   "id": "c84fd110-29d8-47e5-be62-1ff0480252c9",
   "metadata": {},
   "outputs": [],
   "source": [
    "data_filled[features] = scaler.fit_transform(data_filled[features])"
   ]
  },
  {
   "cell_type": "code",
   "execution_count": 12,
   "id": "904d2927-6d49-4e6f-8c98-a26333ebca2c",
   "metadata": {},
   "outputs": [],
   "source": [
    "def create_video_sequences(data, sequence_length):\n",
    "    X, y = [], []\n",
    "    for video in data['Video ID'].unique():\n",
    "        video_data = data[data['Video ID'] == video].sort_values(by='Session')[features].values\n",
    "        for i in range(len(video_data) - sequence_length):\n",
    "            X.append(video_data[i:i + sequence_length])\n",
    "            y.append(video_data[i + sequence_length, 0])  # Predicting 'View Count'\n",
    "    return np.array(X), np.array(y)\n"
   ]
  },
  {
   "cell_type": "code",
   "execution_count": 13,
   "id": "81e25156-6cac-4120-8e61-e623625f7306",
   "metadata": {},
   "outputs": [],
   "source": [
    "# Number of past sessions used to predict the next session\n",
    "sequence_length = 5 "
   ]
  },
  {
   "cell_type": "code",
   "execution_count": 14,
   "id": "9777d9a0-810b-4f58-853c-95207fa2e3c4",
   "metadata": {},
   "outputs": [],
   "source": [
    "X, y = create_video_sequences(data_filled, sequence_length)"
   ]
  },
  {
   "cell_type": "code",
   "execution_count": 15,
   "id": "e87998ec-ebbe-49cb-a6ff-e08017769524",
   "metadata": {},
   "outputs": [],
   "source": [
    "X_train, X_test, y_train, y_test = train_test_split(X, y, test_size=0.3, random_state=42)"
   ]
  },
  {
   "cell_type": "code",
   "execution_count": 16,
   "id": "7014e612-bdf9-4565-b18f-46b775092132",
   "metadata": {},
   "outputs": [
    {
     "name": "stderr",
     "output_type": "stream",
     "text": [
      "/opt/miniconda3/lib/python3.12/site-packages/keras/src/layers/rnn/rnn.py:200: UserWarning: Do not pass an `input_shape`/`input_dim` argument to a layer. When using Sequential models, prefer using an `Input(shape)` object as the first layer in the model instead.\n",
      "  super().__init__(**kwargs)\n"
     ]
    }
   ],
   "source": [
    "#Build the LSTM Model\n",
    "model = Sequential()\n",
    "model.add(LSTM(64, return_sequences=True, input_shape=(X_train.shape[1], X_train.shape[2])))\n",
    "model.add(Dropout(0.1))\n",
    "model.add(LSTM(32, return_sequences=False))\n",
    "model.add(Dropout(0.2))\n",
    "model.add(Dense(1))"
   ]
  },
  {
   "cell_type": "code",
   "execution_count": 17,
   "id": "3cefdda7-9ab2-471c-b6a9-6bde75f7e470",
   "metadata": {},
   "outputs": [],
   "source": [
    "model.compile(optimizer='adam', loss='mean_squared_error')"
   ]
  },
  {
   "cell_type": "code",
   "execution_count": 18,
   "id": "77c3eb27-ac6b-4448-a1a8-d12347abcd50",
   "metadata": {},
   "outputs": [
    {
     "name": "stdout",
     "output_type": "stream",
     "text": [
      "Epoch 1/50\n",
      "\u001b[1m55/55\u001b[0m \u001b[32m━━━━━━━━━━━━━━━━━━━━\u001b[0m\u001b[37m\u001b[0m \u001b[1m1s\u001b[0m 5ms/step - loss: 0.0045 - val_loss: 2.5082e-04\n",
      "Epoch 2/50\n",
      "\u001b[1m55/55\u001b[0m \u001b[32m━━━━━━━━━━━━━━━━━━━━\u001b[0m\u001b[37m\u001b[0m \u001b[1m0s\u001b[0m 2ms/step - loss: 5.8569e-04 - val_loss: 6.7931e-05\n",
      "Epoch 3/50\n",
      "\u001b[1m55/55\u001b[0m \u001b[32m━━━━━━━━━━━━━━━━━━━━\u001b[0m\u001b[37m\u001b[0m \u001b[1m0s\u001b[0m 2ms/step - loss: 3.5115e-04 - val_loss: 1.5490e-04\n",
      "Epoch 4/50\n",
      "\u001b[1m55/55\u001b[0m \u001b[32m━━━━━━━━━━━━━━━━━━━━\u001b[0m\u001b[37m\u001b[0m \u001b[1m0s\u001b[0m 2ms/step - loss: 2.6459e-04 - val_loss: 5.0784e-04\n",
      "Epoch 5/50\n",
      "\u001b[1m55/55\u001b[0m \u001b[32m━━━━━━━━━━━━━━━━━━━━\u001b[0m\u001b[37m\u001b[0m \u001b[1m0s\u001b[0m 2ms/step - loss: 4.7300e-04 - val_loss: 2.1634e-05\n",
      "Epoch 6/50\n",
      "\u001b[1m55/55\u001b[0m \u001b[32m━━━━━━━━━━━━━━━━━━━━\u001b[0m\u001b[37m\u001b[0m \u001b[1m0s\u001b[0m 2ms/step - loss: 1.5500e-04 - val_loss: 4.0454e-05\n",
      "Epoch 7/50\n",
      "\u001b[1m55/55\u001b[0m \u001b[32m━━━━━━━━━━━━━━━━━━━━\u001b[0m\u001b[37m\u001b[0m \u001b[1m0s\u001b[0m 2ms/step - loss: 3.0554e-04 - val_loss: 2.5517e-04\n",
      "Epoch 8/50\n",
      "\u001b[1m55/55\u001b[0m \u001b[32m━━━━━━━━━━━━━━━━━━━━\u001b[0m\u001b[37m\u001b[0m \u001b[1m0s\u001b[0m 2ms/step - loss: 4.3422e-04 - val_loss: 1.9841e-04\n",
      "Epoch 9/50\n",
      "\u001b[1m55/55\u001b[0m \u001b[32m━━━━━━━━━━━━━━━━━━━━\u001b[0m\u001b[37m\u001b[0m \u001b[1m0s\u001b[0m 2ms/step - loss: 3.0516e-04 - val_loss: 9.4326e-05\n",
      "Epoch 10/50\n",
      "\u001b[1m55/55\u001b[0m \u001b[32m━━━━━━━━━━━━━━━━━━━━\u001b[0m\u001b[37m\u001b[0m \u001b[1m0s\u001b[0m 2ms/step - loss: 4.1560e-04 - val_loss: 1.1000e-04\n",
      "Epoch 11/50\n",
      "\u001b[1m55/55\u001b[0m \u001b[32m━━━━━━━━━━━━━━━━━━━━\u001b[0m\u001b[37m\u001b[0m \u001b[1m0s\u001b[0m 2ms/step - loss: 2.5982e-04 - val_loss: 6.2563e-05\n",
      "Epoch 12/50\n",
      "\u001b[1m55/55\u001b[0m \u001b[32m━━━━━━━━━━━━━━━━━━━━\u001b[0m\u001b[37m\u001b[0m \u001b[1m0s\u001b[0m 2ms/step - loss: 3.0084e-04 - val_loss: 5.7308e-05\n",
      "Epoch 13/50\n",
      "\u001b[1m55/55\u001b[0m \u001b[32m━━━━━━━━━━━━━━━━━━━━\u001b[0m\u001b[37m\u001b[0m \u001b[1m0s\u001b[0m 2ms/step - loss: 2.9000e-04 - val_loss: 1.1207e-04\n",
      "Epoch 14/50\n",
      "\u001b[1m55/55\u001b[0m \u001b[32m━━━━━━━━━━━━━━━━━━━━\u001b[0m\u001b[37m\u001b[0m \u001b[1m0s\u001b[0m 2ms/step - loss: 2.6377e-04 - val_loss: 6.7071e-05\n",
      "Epoch 15/50\n",
      "\u001b[1m55/55\u001b[0m \u001b[32m━━━━━━━━━━━━━━━━━━━━\u001b[0m\u001b[37m\u001b[0m \u001b[1m0s\u001b[0m 2ms/step - loss: 3.7042e-04 - val_loss: 4.0748e-04\n",
      "Epoch 16/50\n",
      "\u001b[1m55/55\u001b[0m \u001b[32m━━━━━━━━━━━━━━━━━━━━\u001b[0m\u001b[37m\u001b[0m \u001b[1m0s\u001b[0m 2ms/step - loss: 3.9237e-04 - val_loss: 2.6185e-05\n",
      "Epoch 17/50\n",
      "\u001b[1m55/55\u001b[0m \u001b[32m━━━━━━━━━━━━━━━━━━━━\u001b[0m\u001b[37m\u001b[0m \u001b[1m0s\u001b[0m 2ms/step - loss: 2.4873e-04 - val_loss: 1.6030e-05\n",
      "Epoch 18/50\n",
      "\u001b[1m55/55\u001b[0m \u001b[32m━━━━━━━━━━━━━━━━━━━━\u001b[0m\u001b[37m\u001b[0m \u001b[1m0s\u001b[0m 2ms/step - loss: 2.3053e-04 - val_loss: 1.3686e-04\n",
      "Epoch 19/50\n",
      "\u001b[1m55/55\u001b[0m \u001b[32m━━━━━━━━━━━━━━━━━━━━\u001b[0m\u001b[37m\u001b[0m \u001b[1m0s\u001b[0m 2ms/step - loss: 6.9860e-04 - val_loss: 4.3357e-05\n",
      "Epoch 20/50\n",
      "\u001b[1m55/55\u001b[0m \u001b[32m━━━━━━━━━━━━━━━━━━━━\u001b[0m\u001b[37m\u001b[0m \u001b[1m0s\u001b[0m 2ms/step - loss: 4.8104e-04 - val_loss: 5.1295e-05\n",
      "Epoch 21/50\n",
      "\u001b[1m55/55\u001b[0m \u001b[32m━━━━━━━━━━━━━━━━━━━━\u001b[0m\u001b[37m\u001b[0m \u001b[1m0s\u001b[0m 2ms/step - loss: 2.0409e-04 - val_loss: 6.5460e-05\n",
      "Epoch 22/50\n",
      "\u001b[1m55/55\u001b[0m \u001b[32m━━━━━━━━━━━━━━━━━━━━\u001b[0m\u001b[37m\u001b[0m \u001b[1m0s\u001b[0m 2ms/step - loss: 1.7025e-04 - val_loss: 1.6248e-05\n",
      "Epoch 23/50\n",
      "\u001b[1m55/55\u001b[0m \u001b[32m━━━━━━━━━━━━━━━━━━━━\u001b[0m\u001b[37m\u001b[0m \u001b[1m0s\u001b[0m 2ms/step - loss: 2.6569e-04 - val_loss: 6.1686e-04\n",
      "Epoch 24/50\n",
      "\u001b[1m55/55\u001b[0m \u001b[32m━━━━━━━━━━━━━━━━━━━━\u001b[0m\u001b[37m\u001b[0m \u001b[1m0s\u001b[0m 2ms/step - loss: 5.2784e-04 - val_loss: 1.0935e-04\n",
      "Epoch 25/50\n",
      "\u001b[1m55/55\u001b[0m \u001b[32m━━━━━━━━━━━━━━━━━━━━\u001b[0m\u001b[37m\u001b[0m \u001b[1m0s\u001b[0m 2ms/step - loss: 2.5840e-04 - val_loss: 2.8000e-05\n",
      "Epoch 26/50\n",
      "\u001b[1m55/55\u001b[0m \u001b[32m━━━━━━━━━━━━━━━━━━━━\u001b[0m\u001b[37m\u001b[0m \u001b[1m0s\u001b[0m 3ms/step - loss: 4.7423e-04 - val_loss: 2.9429e-05\n",
      "Epoch 27/50\n",
      "\u001b[1m55/55\u001b[0m \u001b[32m━━━━━━━━━━━━━━━━━━━━\u001b[0m\u001b[37m\u001b[0m \u001b[1m0s\u001b[0m 2ms/step - loss: 3.2844e-04 - val_loss: 4.5373e-05\n",
      "Epoch 28/50\n",
      "\u001b[1m55/55\u001b[0m \u001b[32m━━━━━━━━━━━━━━━━━━━━\u001b[0m\u001b[37m\u001b[0m \u001b[1m0s\u001b[0m 2ms/step - loss: 3.9876e-04 - val_loss: 3.4169e-05\n",
      "Epoch 29/50\n",
      "\u001b[1m55/55\u001b[0m \u001b[32m━━━━━━━━━━━━━━━━━━━━\u001b[0m\u001b[37m\u001b[0m \u001b[1m0s\u001b[0m 2ms/step - loss: 3.0527e-04 - val_loss: 5.2844e-05\n",
      "Epoch 30/50\n",
      "\u001b[1m55/55\u001b[0m \u001b[32m━━━━━━━━━━━━━━━━━━━━\u001b[0m\u001b[37m\u001b[0m \u001b[1m0s\u001b[0m 2ms/step - loss: 4.1775e-04 - val_loss: 8.0397e-05\n",
      "Epoch 31/50\n",
      "\u001b[1m55/55\u001b[0m \u001b[32m━━━━━━━━━━━━━━━━━━━━\u001b[0m\u001b[37m\u001b[0m \u001b[1m0s\u001b[0m 2ms/step - loss: 2.2689e-04 - val_loss: 1.0630e-04\n",
      "Epoch 32/50\n",
      "\u001b[1m55/55\u001b[0m \u001b[32m━━━━━━━━━━━━━━━━━━━━\u001b[0m\u001b[37m\u001b[0m \u001b[1m0s\u001b[0m 2ms/step - loss: 3.3364e-04 - val_loss: 3.7411e-05\n",
      "Epoch 33/50\n",
      "\u001b[1m55/55\u001b[0m \u001b[32m━━━━━━━━━━━━━━━━━━━━\u001b[0m\u001b[37m\u001b[0m \u001b[1m0s\u001b[0m 2ms/step - loss: 1.5162e-04 - val_loss: 3.3511e-05\n",
      "Epoch 34/50\n",
      "\u001b[1m55/55\u001b[0m \u001b[32m━━━━━━━━━━━━━━━━━━━━\u001b[0m\u001b[37m\u001b[0m \u001b[1m0s\u001b[0m 2ms/step - loss: 1.9234e-04 - val_loss: 1.8183e-05\n",
      "Epoch 35/50\n",
      "\u001b[1m55/55\u001b[0m \u001b[32m━━━━━━━━━━━━━━━━━━━━\u001b[0m\u001b[37m\u001b[0m \u001b[1m0s\u001b[0m 2ms/step - loss: 2.9291e-04 - val_loss: 1.6106e-05\n",
      "Epoch 36/50\n",
      "\u001b[1m55/55\u001b[0m \u001b[32m━━━━━━━━━━━━━━━━━━━━\u001b[0m\u001b[37m\u001b[0m \u001b[1m0s\u001b[0m 2ms/step - loss: 1.5552e-04 - val_loss: 4.5786e-05\n",
      "Epoch 37/50\n",
      "\u001b[1m55/55\u001b[0m \u001b[32m━━━━━━━━━━━━━━━━━━━━\u001b[0m\u001b[37m\u001b[0m \u001b[1m0s\u001b[0m 2ms/step - loss: 2.6167e-04 - val_loss: 2.5419e-05\n",
      "Epoch 38/50\n",
      "\u001b[1m55/55\u001b[0m \u001b[32m━━━━━━━━━━━━━━━━━━━━\u001b[0m\u001b[37m\u001b[0m \u001b[1m0s\u001b[0m 2ms/step - loss: 2.5106e-04 - val_loss: 5.1750e-05\n",
      "Epoch 39/50\n",
      "\u001b[1m55/55\u001b[0m \u001b[32m━━━━━━━━━━━━━━━━━━━━\u001b[0m\u001b[37m\u001b[0m \u001b[1m0s\u001b[0m 2ms/step - loss: 2.6618e-04 - val_loss: 9.1260e-05\n",
      "Epoch 40/50\n",
      "\u001b[1m55/55\u001b[0m \u001b[32m━━━━━━━━━━━━━━━━━━━━\u001b[0m\u001b[37m\u001b[0m \u001b[1m0s\u001b[0m 2ms/step - loss: 2.2694e-04 - val_loss: 9.7519e-05\n",
      "Epoch 41/50\n",
      "\u001b[1m55/55\u001b[0m \u001b[32m━━━━━━━━━━━━━━━━━━━━\u001b[0m\u001b[37m\u001b[0m \u001b[1m0s\u001b[0m 2ms/step - loss: 2.3182e-04 - val_loss: 6.3894e-05\n",
      "Epoch 42/50\n",
      "\u001b[1m55/55\u001b[0m \u001b[32m━━━━━━━━━━━━━━━━━━━━\u001b[0m\u001b[37m\u001b[0m \u001b[1m0s\u001b[0m 2ms/step - loss: 2.5836e-04 - val_loss: 2.0348e-04\n",
      "Epoch 43/50\n",
      "\u001b[1m55/55\u001b[0m \u001b[32m━━━━━━━━━━━━━━━━━━━━\u001b[0m\u001b[37m\u001b[0m \u001b[1m0s\u001b[0m 2ms/step - loss: 5.4776e-04 - val_loss: 4.5608e-05\n",
      "Epoch 44/50\n",
      "\u001b[1m55/55\u001b[0m \u001b[32m━━━━━━━━━━━━━━━━━━━━\u001b[0m\u001b[37m\u001b[0m \u001b[1m0s\u001b[0m 2ms/step - loss: 2.2069e-04 - val_loss: 2.3968e-05\n",
      "Epoch 45/50\n",
      "\u001b[1m55/55\u001b[0m \u001b[32m━━━━━━━━━━━━━━━━━━━━\u001b[0m\u001b[37m\u001b[0m \u001b[1m0s\u001b[0m 2ms/step - loss: 2.3798e-04 - val_loss: 3.8329e-05\n",
      "Epoch 46/50\n",
      "\u001b[1m55/55\u001b[0m \u001b[32m━━━━━━━━━━━━━━━━━━━━\u001b[0m\u001b[37m\u001b[0m \u001b[1m0s\u001b[0m 2ms/step - loss: 4.0482e-04 - val_loss: 1.8508e-04\n",
      "Epoch 47/50\n",
      "\u001b[1m55/55\u001b[0m \u001b[32m━━━━━━━━━━━━━━━━━━━━\u001b[0m\u001b[37m\u001b[0m \u001b[1m0s\u001b[0m 2ms/step - loss: 3.5487e-04 - val_loss: 3.2523e-05\n",
      "Epoch 48/50\n",
      "\u001b[1m55/55\u001b[0m \u001b[32m━━━━━━━━━━━━━━━━━━━━\u001b[0m\u001b[37m\u001b[0m \u001b[1m0s\u001b[0m 2ms/step - loss: 1.9522e-04 - val_loss: 4.3263e-05\n",
      "Epoch 49/50\n",
      "\u001b[1m55/55\u001b[0m \u001b[32m━━━━━━━━━━━━━━━━━━━━\u001b[0m\u001b[37m\u001b[0m \u001b[1m0s\u001b[0m 2ms/step - loss: 1.6713e-04 - val_loss: 4.4296e-05\n",
      "Epoch 50/50\n",
      "\u001b[1m55/55\u001b[0m \u001b[32m━━━━━━━━━━━━━━━━━━━━\u001b[0m\u001b[37m\u001b[0m \u001b[1m0s\u001b[0m 2ms/step - loss: 4.7772e-04 - val_loss: 5.3294e-05\n"
     ]
    }
   ],
   "source": [
    "history = model.fit(X_train, y_train, epochs=50, batch_size=16, validation_data=(X_test, y_test))\n"
   ]
  },
  {
   "cell_type": "code",
   "execution_count": 19,
   "id": "fae4f859-ba41-4e96-bbc0-4ea2812728e7",
   "metadata": {},
   "outputs": [
    {
     "name": "stdout",
     "output_type": "stream",
     "text": [
      "\u001b[1m12/12\u001b[0m \u001b[32m━━━━━━━━━━━━━━━━━━━━\u001b[0m\u001b[37m\u001b[0m \u001b[1m0s\u001b[0m 8ms/step\n"
     ]
    }
   ],
   "source": [
    "predictions = model.predict(X_test)"
   ]
  },
  {
   "cell_type": "code",
   "execution_count": 20,
   "id": "f5671c39-6089-4721-8980-53db2d01dba6",
   "metadata": {},
   "outputs": [],
   "source": [
    "# Expanding the 'predictions' array to match the shape required for inverse transformation\n",
    "# This step adds extra columns filled with zeros for features not being predicted.\n",
    "# The number of added columns is (len(features) - 1), assuming only one feature is predicted (e.g., 'View Count').\n",
    "predictions_expanded = np.concatenate(\n",
    "    (predictions, np.zeros((predictions.shape[0], len(features) - 1))),  # Add zeros to match feature dimensions\n",
    "    axis=1  # Concatenate along the column axis\n",
    ")\n",
    "\n",
    "# Expanding the 'y_test' array to match the shape required for inverse transformation\n",
    "# This reshapes the true target values into a compatible shape and adds zeros for other features.\n",
    "y_test_expanded = np.concatenate(\n",
    "    (y_test.reshape(-1, 1),  # Reshape 'y_test' to add a new axis for concatenation\n",
    "     np.zeros((y_test.shape[0], len(features) - 1))),  # Add zeros to match feature dimensions\n",
    "    axis=1  # Concatenate along the column axis\n",
    ")"
   ]
  },
  {
   "cell_type": "code",
   "execution_count": 21,
   "id": "35b201c6-318d-49ea-864c-736846099ffd",
   "metadata": {},
   "outputs": [],
   "source": [
    "# Rescaling the predictions back to the original scale using the inverse_transform method of the scaler\n",
    "# Only the first column (the target feature, e.g., 'View Count') is used from the expanded array.\n",
    "predictions_rescaled = scaler.inverse_transform(predictions_expanded)[:, 0]\n",
    "\n",
    "# Rescaling the true target values (y_test) back to the original scale for comparison\n",
    "# Again, only the first column (the target feature) is taken after inverse transformation.l\n",
    "y_test_rescaled = scaler.inverse_transform(y_test_expanded)[:, 0]"
   ]
  },
  {
   "cell_type": "code",
   "execution_count": 22,
   "id": "03e7abd1-07bf-4d00-adea-ce7f841a56c2",
   "metadata": {},
   "outputs": [
    {
     "data": {
      "image/png": "[encoded data removed]",
      "text/plain": [
       "<Figure size 1000x600 with 1 Axes>"
      ]
     },
     "metadata": {},
     "output_type": "display_data"
    }
   ],
   "source": [
    "plt.figure(figsize=(10, 6))\n",
    "plt.plot(y_test_rescaled, label='Actual', alpha=0.7)\n",
    "plt.plot(predictions_rescaled, label='Predicted', alpha=0.7)\n",
    "plt.title('Actual vs Predicted')\n",
    "plt.xlabel('Sample Index')\n",
    "plt.ylabel('View Count')\n",
    "plt.legend()\n",
    "plt.show()"
   ]
  },
  {
   "cell_type": "markdown",
   "id": "b4a1a0c8-2b66-44e4-90d5-78ec3fcfd24a",
   "metadata": {},
   "source": [
    "### Explanation of the Graph\n",
    "\n",
    "1. **X-axis (Sample Index)**:\n",
    "   - Each index on the X-axis corresponds to a specific **video in a session**.\n",
    "   - For example:\n",
    "     - Index 1 represents video 1 in session 1.\n",
    "     - Index 2 represents video 2 in session 1, and so on.\n",
    "\n",
    "2. **Y-axis (View Count)**:\n",
    "   - This represents the **view count** (in the original scale, after rescaling).\n",
    "\n",
    "3. **Actual Values (Blue Line)**:\n",
    "   - The blue line represents the **true view counts** for each video at the corresponding sample index.\n",
    "\n",
    "4. **Predicted Values (Orange Line)**:\n",
    "   - The orange line represents the **predicted view counts** generated by the model for each video at the corresponding sample index.\n",
    "\n",
    "The test size is 0.3 so that there is 0.3*14XX where approximately 400 video is plotted.\n"
   ]
  },
  {
   "cell_type": "code",
   "execution_count": 23,
   "id": "b670c079-d737-43fa-a1c2-e07ea1bd6daa",
   "metadata": {},
   "outputs": [
    {
     "name": "stderr",
     "output_type": "stream",
     "text": [
      "WARNING:absl:You are saving your model as an HDF5 file via `model.save()` or `keras.saving.save_model(model)`. This file format is considered legacy. We recommend using instead the native Keras format, e.g. `model.save('my_model.keras')` or `keras.saving.save_model(model, 'my_model.keras')`. \n"
     ]
    },
    {
     "name": "stdout",
     "output_type": "stream",
     "text": [
      "Model saved successfully!\n"
     ]
    }
   ],
   "source": [
    "model.save('lstm_model.h5')\n",
    "print(\"Model saved successfully!\")"
   ]
  },
  {
   "cell_type": "code",
   "execution_count": 24,
   "id": "cf9c08de-7b7b-40e6-aa0a-28df73a60413",
   "metadata": {},
   "outputs": [
    {
     "name": "stderr",
     "output_type": "stream",
     "text": [
      "WARNING:absl:Compiled the loaded model, but the compiled metrics have yet to be built. `model.compile_metrics` will be empty until you train or evaluate the model.\n"
     ]
    },
    {
     "name": "stdout",
     "output_type": "stream",
     "text": [
      "Model loaded successfully!\n"
     ]
    }
   ],
   "source": [
    "from tensorflow.keras.models import load_model\n",
    "\n",
    "# Load the saved LSTM model we trained\n",
    "model = load_model('lstm_model.h5')\n",
    "print(\"Model loaded successfully!\")\n"
   ]
  },
  {
   "cell_type": "code",
   "execution_count": 25,
   "id": "afc4b394-0714-4642-b9ce-6bafd5880bf9",
   "metadata": {},
   "outputs": [],
   "source": [
    "import numpy as np\n",
    "import pandas as pd\n",
    "from keras.models import load_model\n"
   ]
  },
  {
   "cell_type": "code",
   "execution_count": 26,
   "id": "98d2477c-4258-47bb-83cc-5bd8903895c4",
   "metadata": {},
   "outputs": [],
   "source": [
    "data = pd.read_csv('Final_30_sessions_re_categorize.csv')\n"
   ]
  },
  {
   "cell_type": "code",
   "execution_count": 27,
   "id": "61b0a2fb-9528-49be-b1d2-dae3a8fb5600",
   "metadata": {},
   "outputs": [],
   "source": [
    "video_id = 'mb5ldcr1jbA'\n",
    "video_data = data[data['Video ID'] == video_id]\n",
    "\n",
    "# Extract the view count series to use for prediction\n",
    "view_counts = video_data['View Count'].values\n",
    " "
   ]
  },
  {
   "cell_type": "code",
   "execution_count": 28,
   "id": "8e8d3293-dfbe-47da-99bf-4b4f754eed1f",
   "metadata": {},
   "outputs": [
    {
     "data": {
      "text/html": [
       "<div>\n",
       "<style scoped>\n",
       "    .dataframe tbody tr th:only-of-type {\n",
       "        vertical-align: middle;\n",
       "    }\n",
       "\n",
       "    .dataframe tbody tr th {\n",
       "        vertical-align: top;\n",
       "    }\n",
       "\n",
       "    .dataframe thead th {\n",
       "        text-align: right;\n",
       "    }\n",
       "</style>\n",
       "<table border=\"1\" class=\"dataframe\">\n",
       "  <thead>\n",
       "    <tr style=\"text-align: right;\">\n",
       "      <th></th>\n",
       "      <th>Video ID</th>\n",
       "      <th>Session</th>\n",
       "      <th>View Count</th>\n",
       "      <th>Like Count</th>\n",
       "      <th>Comment Count</th>\n",
       "      <th>Video Category</th>\n",
       "      <th>Video Published At</th>\n",
       "    </tr>\n",
       "  </thead>\n",
       "  <tbody>\n",
       "    <tr>\n",
       "      <th>0</th>\n",
       "      <td>mb5ldcr1jbA</td>\n",
       "      <td>1</td>\n",
       "      <td>273046</td>\n",
       "      <td>1273</td>\n",
       "      <td>0</td>\n",
       "      <td>Info</td>\n",
       "      <td>2024-10-21 19:10:34</td>\n",
       "    </tr>\n",
       "    <tr>\n",
       "      <th>50</th>\n",
       "      <td>mb5ldcr1jbA</td>\n",
       "      <td>2</td>\n",
       "      <td>275310</td>\n",
       "      <td>1279</td>\n",
       "      <td>0</td>\n",
       "      <td>Info</td>\n",
       "      <td>2024-10-21 19:10:34</td>\n",
       "    </tr>\n",
       "    <tr>\n",
       "      <th>100</th>\n",
       "      <td>mb5ldcr1jbA</td>\n",
       "      <td>3</td>\n",
       "      <td>276646</td>\n",
       "      <td>1281</td>\n",
       "      <td>0</td>\n",
       "      <td>Info</td>\n",
       "      <td>2024-10-21 19:10:34</td>\n",
       "    </tr>\n",
       "    <tr>\n",
       "      <th>150</th>\n",
       "      <td>mb5ldcr1jbA</td>\n",
       "      <td>4</td>\n",
       "      <td>277496</td>\n",
       "      <td>1287</td>\n",
       "      <td>0</td>\n",
       "      <td>Info</td>\n",
       "      <td>2024-10-21 19:10:34</td>\n",
       "    </tr>\n",
       "    <tr>\n",
       "      <th>200</th>\n",
       "      <td>mb5ldcr1jbA</td>\n",
       "      <td>5</td>\n",
       "      <td>278589</td>\n",
       "      <td>1300</td>\n",
       "      <td>0</td>\n",
       "      <td>Info</td>\n",
       "      <td>2024-10-21 19:10:34</td>\n",
       "    </tr>\n",
       "    <tr>\n",
       "      <th>250</th>\n",
       "      <td>mb5ldcr1jbA</td>\n",
       "      <td>6</td>\n",
       "      <td>280162</td>\n",
       "      <td>1323</td>\n",
       "      <td>1</td>\n",
       "      <td>Info</td>\n",
       "      <td>2024-10-21 19:10:34</td>\n",
       "    </tr>\n",
       "    <tr>\n",
       "      <th>300</th>\n",
       "      <td>mb5ldcr1jbA</td>\n",
       "      <td>7</td>\n",
       "      <td>283305</td>\n",
       "      <td>1354</td>\n",
       "      <td>2</td>\n",
       "      <td>Info</td>\n",
       "      <td>2024-10-21 19:10:34</td>\n",
       "    </tr>\n",
       "    <tr>\n",
       "      <th>350</th>\n",
       "      <td>mb5ldcr1jbA</td>\n",
       "      <td>8</td>\n",
       "      <td>290208</td>\n",
       "      <td>1373</td>\n",
       "      <td>2</td>\n",
       "      <td>Info</td>\n",
       "      <td>2024-10-21 19:10:34</td>\n",
       "    </tr>\n",
       "    <tr>\n",
       "      <th>400</th>\n",
       "      <td>mb5ldcr1jbA</td>\n",
       "      <td>9</td>\n",
       "      <td>296018</td>\n",
       "      <td>1392</td>\n",
       "      <td>2</td>\n",
       "      <td>Info</td>\n",
       "      <td>2024-10-21 19:10:34</td>\n",
       "    </tr>\n",
       "    <tr>\n",
       "      <th>450</th>\n",
       "      <td>mb5ldcr1jbA</td>\n",
       "      <td>10</td>\n",
       "      <td>301444</td>\n",
       "      <td>1403</td>\n",
       "      <td>2</td>\n",
       "      <td>Info</td>\n",
       "      <td>2024-10-21 19:10:34</td>\n",
       "    </tr>\n",
       "    <tr>\n",
       "      <th>500</th>\n",
       "      <td>mb5ldcr1jbA</td>\n",
       "      <td>11</td>\n",
       "      <td>305825</td>\n",
       "      <td>1410</td>\n",
       "      <td>2</td>\n",
       "      <td>Info</td>\n",
       "      <td>2024-10-21 19:10:34</td>\n",
       "    </tr>\n",
       "    <tr>\n",
       "      <th>550</th>\n",
       "      <td>mb5ldcr1jbA</td>\n",
       "      <td>12</td>\n",
       "      <td>309264</td>\n",
       "      <td>1416</td>\n",
       "      <td>2</td>\n",
       "      <td>Info</td>\n",
       "      <td>2024-10-21 19:10:34</td>\n",
       "    </tr>\n",
       "    <tr>\n",
       "      <th>599</th>\n",
       "      <td>mb5ldcr1jbA</td>\n",
       "      <td>13</td>\n",
       "      <td>312323</td>\n",
       "      <td>1422</td>\n",
       "      <td>4</td>\n",
       "      <td>Info</td>\n",
       "      <td>2024-10-21 19:10:34</td>\n",
       "    </tr>\n",
       "    <tr>\n",
       "      <th>648</th>\n",
       "      <td>mb5ldcr1jbA</td>\n",
       "      <td>14</td>\n",
       "      <td>314550</td>\n",
       "      <td>1427</td>\n",
       "      <td>4</td>\n",
       "      <td>Info</td>\n",
       "      <td>2024-10-21 19:10:34</td>\n",
       "    </tr>\n",
       "    <tr>\n",
       "      <th>697</th>\n",
       "      <td>mb5ldcr1jbA</td>\n",
       "      <td>15</td>\n",
       "      <td>317154</td>\n",
       "      <td>1434</td>\n",
       "      <td>4</td>\n",
       "      <td>Info</td>\n",
       "      <td>2024-10-21 19:10:34</td>\n",
       "    </tr>\n",
       "    <tr>\n",
       "      <th>746</th>\n",
       "      <td>mb5ldcr1jbA</td>\n",
       "      <td>16</td>\n",
       "      <td>318754</td>\n",
       "      <td>1441</td>\n",
       "      <td>4</td>\n",
       "      <td>Info</td>\n",
       "      <td>2024-10-21 19:10:34</td>\n",
       "    </tr>\n",
       "    <tr>\n",
       "      <th>795</th>\n",
       "      <td>mb5ldcr1jbA</td>\n",
       "      <td>17</td>\n",
       "      <td>320449</td>\n",
       "      <td>1451</td>\n",
       "      <td>4</td>\n",
       "      <td>Info</td>\n",
       "      <td>2024-10-21 19:10:34</td>\n",
       "    </tr>\n",
       "    <tr>\n",
       "      <th>844</th>\n",
       "      <td>mb5ldcr1jbA</td>\n",
       "      <td>18</td>\n",
       "      <td>322123</td>\n",
       "      <td>1462</td>\n",
       "      <td>4</td>\n",
       "      <td>Info</td>\n",
       "      <td>2024-10-21 19:10:34</td>\n",
       "    </tr>\n",
       "    <tr>\n",
       "      <th>893</th>\n",
       "      <td>mb5ldcr1jbA</td>\n",
       "      <td>19</td>\n",
       "      <td>323542</td>\n",
       "      <td>1473</td>\n",
       "      <td>4</td>\n",
       "      <td>Info</td>\n",
       "      <td>2024-10-21 19:10:34</td>\n",
       "    </tr>\n",
       "    <tr>\n",
       "      <th>942</th>\n",
       "      <td>mb5ldcr1jbA</td>\n",
       "      <td>20</td>\n",
       "      <td>334623</td>\n",
       "      <td>1501</td>\n",
       "      <td>4</td>\n",
       "      <td>Info</td>\n",
       "      <td>2024-10-21 19:10:34</td>\n",
       "    </tr>\n",
       "    <tr>\n",
       "      <th>991</th>\n",
       "      <td>mb5ldcr1jbA</td>\n",
       "      <td>21</td>\n",
       "      <td>335094</td>\n",
       "      <td>1501</td>\n",
       "      <td>4</td>\n",
       "      <td>Info</td>\n",
       "      <td>2024-10-21 19:10:34</td>\n",
       "    </tr>\n",
       "    <tr>\n",
       "      <th>1040</th>\n",
       "      <td>mb5ldcr1jbA</td>\n",
       "      <td>22</td>\n",
       "      <td>335337</td>\n",
       "      <td>1503</td>\n",
       "      <td>4</td>\n",
       "      <td>Info</td>\n",
       "      <td>2024-10-21 19:10:34</td>\n",
       "    </tr>\n",
       "    <tr>\n",
       "      <th>1089</th>\n",
       "      <td>mb5ldcr1jbA</td>\n",
       "      <td>23</td>\n",
       "      <td>335399</td>\n",
       "      <td>1504</td>\n",
       "      <td>4</td>\n",
       "      <td>Info</td>\n",
       "      <td>2024-10-21 19:10:34</td>\n",
       "    </tr>\n",
       "    <tr>\n",
       "      <th>1138</th>\n",
       "      <td>mb5ldcr1jbA</td>\n",
       "      <td>24</td>\n",
       "      <td>335607</td>\n",
       "      <td>1513</td>\n",
       "      <td>4</td>\n",
       "      <td>Info</td>\n",
       "      <td>2024-10-21 19:10:34</td>\n",
       "    </tr>\n",
       "    <tr>\n",
       "      <th>1187</th>\n",
       "      <td>mb5ldcr1jbA</td>\n",
       "      <td>25</td>\n",
       "      <td>336040</td>\n",
       "      <td>1515</td>\n",
       "      <td>4</td>\n",
       "      <td>Info</td>\n",
       "      <td>2024-10-21 19:10:34</td>\n",
       "    </tr>\n",
       "    <tr>\n",
       "      <th>1236</th>\n",
       "      <td>mb5ldcr1jbA</td>\n",
       "      <td>26</td>\n",
       "      <td>336780</td>\n",
       "      <td>1519</td>\n",
       "      <td>4</td>\n",
       "      <td>Info</td>\n",
       "      <td>2024-10-21 19:10:34</td>\n",
       "    </tr>\n",
       "    <tr>\n",
       "      <th>1285</th>\n",
       "      <td>mb5ldcr1jbA</td>\n",
       "      <td>27</td>\n",
       "      <td>337712</td>\n",
       "      <td>1523</td>\n",
       "      <td>4</td>\n",
       "      <td>Info</td>\n",
       "      <td>2024-10-21 19:10:34</td>\n",
       "    </tr>\n",
       "    <tr>\n",
       "      <th>1334</th>\n",
       "      <td>mb5ldcr1jbA</td>\n",
       "      <td>28</td>\n",
       "      <td>338985</td>\n",
       "      <td>1524</td>\n",
       "      <td>4</td>\n",
       "      <td>Info</td>\n",
       "      <td>2024-10-21 19:10:34</td>\n",
       "    </tr>\n",
       "    <tr>\n",
       "      <th>1383</th>\n",
       "      <td>mb5ldcr1jbA</td>\n",
       "      <td>29</td>\n",
       "      <td>339182</td>\n",
       "      <td>1525</td>\n",
       "      <td>4</td>\n",
       "      <td>Info</td>\n",
       "      <td>2024-10-21 19:10:34</td>\n",
       "    </tr>\n",
       "    <tr>\n",
       "      <th>1432</th>\n",
       "      <td>mb5ldcr1jbA</td>\n",
       "      <td>30</td>\n",
       "      <td>340450</td>\n",
       "      <td>1525</td>\n",
       "      <td>4</td>\n",
       "      <td>Info</td>\n",
       "      <td>2024-10-21 19:10:34</td>\n",
       "    </tr>\n",
       "  </tbody>\n",
       "</table>\n",
       "</div>"
      ],
      "text/plain": [
       "         Video ID  Session  View Count  Like Count  Comment Count  \\\n",
       "0     mb5ldcr1jbA        1      273046        1273              0   \n",
       "50    mb5ldcr1jbA        2      275310        1279              0   \n",
       "100   mb5ldcr1jbA        3      276646        1281              0   \n",
       "150   mb5ldcr1jbA        4      277496        1287              0   \n",
       "200   mb5ldcr1jbA        5      278589        1300              0   \n",
       "250   mb5ldcr1jbA        6      280162        1323              1   \n",
       "300   mb5ldcr1jbA        7      283305        1354              2   \n",
       "350   mb5ldcr1jbA        8      290208        1373              2   \n",
       "400   mb5ldcr1jbA        9      296018        1392              2   \n",
       "450   mb5ldcr1jbA       10      301444        1403              2   \n",
       "500   mb5ldcr1jbA       11      305825        1410              2   \n",
       "550   mb5ldcr1jbA       12      309264        1416              2   \n",
       "599   mb5ldcr1jbA       13      312323        1422              4   \n",
       "648   mb5ldcr1jbA       14      314550        1427              4   \n",
       "697   mb5ldcr1jbA       15      317154        1434              4   \n",
       "746   mb5ldcr1jbA       16      318754        1441              4   \n",
       "795   mb5ldcr1jbA       17      320449        1451              4   \n",
       "844   mb5ldcr1jbA       18      322123        1462              4   \n",
       "893   mb5ldcr1jbA       19      323542        1473              4   \n",
       "942   mb5ldcr1jbA       20      334623        1501              4   \n",
       "991   mb5ldcr1jbA       21      335094        1501              4   \n",
       "1040  mb5ldcr1jbA       22      335337        1503              4   \n",
       "1089  mb5ldcr1jbA       23      335399        1504              4   \n",
       "1138  mb5ldcr1jbA       24      335607        1513              4   \n",
       "1187  mb5ldcr1jbA       25      336040        1515              4   \n",
       "1236  mb5ldcr1jbA       26      336780        1519              4   \n",
       "1285  mb5ldcr1jbA       27      337712        1523              4   \n",
       "1334  mb5ldcr1jbA       28      338985        1524              4   \n",
       "1383  mb5ldcr1jbA       29      339182        1525              4   \n",
       "1432  mb5ldcr1jbA       30      340450        1525              4   \n",
       "\n",
       "     Video Category   Video Published At  \n",
       "0              Info  2024-10-21 19:10:34  \n",
       "50             Info  2024-10-21 19:10:34  \n",
       "100            Info  2024-10-21 19:10:34  \n",
       "150            Info  2024-10-21 19:10:34  \n",
       "200            Info  2024-10-21 19:10:34  \n",
       "250            Info  2024-10-21 19:10:34  \n",
       "300            Info  2024-10-21 19:10:34  \n",
       "350            Info  2024-10-21 19:10:34  \n",
       "400            Info  2024-10-21 19:10:34  \n",
       "450            Info  2024-10-21 19:10:34  \n",
       "500            Info  2024-10-21 19:10:34  \n",
       "550            Info  2024-10-21 19:10:34  \n",
       "599            Info  2024-10-21 19:10:34  \n",
       "648            Info  2024-10-21 19:10:34  \n",
       "697            Info  2024-10-21 19:10:34  \n",
       "746            Info  2024-10-21 19:10:34  \n",
       "795            Info  2024-10-21 19:10:34  \n",
       "844            Info  2024-10-21 19:10:34  \n",
       "893            Info  2024-10-21 19:10:34  \n",
       "942            Info  2024-10-21 19:10:34  \n",
       "991            Info  2024-10-21 19:10:34  \n",
       "1040           Info  2024-10-21 19:10:34  \n",
       "1089           Info  2024-10-21 19:10:34  \n",
       "1138           Info  2024-10-21 19:10:34  \n",
       "1187           Info  2024-10-21 19:10:34  \n",
       "1236           Info  2024-10-21 19:10:34  \n",
       "1285           Info  2024-10-21 19:10:34  \n",
       "1334           Info  2024-10-21 19:10:34  \n",
       "1383           Info  2024-10-21 19:10:34  \n",
       "1432           Info  2024-10-21 19:10:34  "
      ]
     },
     "execution_count": 28,
     "metadata": {},
     "output_type": "execute_result"
    }
   ],
   "source": [
    "video_data"
   ]
  },
  {
   "cell_type": "code",
   "execution_count": 29,
   "id": "6edeec40-7e57-4184-ad3c-6c46ff180d39",
   "metadata": {},
   "outputs": [
    {
     "data": {
      "text/plain": [
       "array([273046, 275310, 276646, 277496, 278589, 280162, 283305, 290208,\n",
       "       296018, 301444, 305825, 309264, 312323, 314550, 317154, 318754,\n",
       "       320449, 322123, 323542, 334623, 335094, 335337, 335399, 335607,\n",
       "       336040, 336780, 337712, 338985, 339182, 340450])"
      ]
     },
     "execution_count": 29,
     "metadata": {},
     "output_type": "execute_result"
    }
   ],
   "source": [
    "view_counts"
   ]
  },
  {
   "cell_type": "code",
   "execution_count": 30,
   "id": "e3b539d6-cdc3-4ad4-8fa0-d937baf62fb0",
   "metadata": {},
   "outputs": [],
   "source": [
    "window_size = 30\n",
    "input_view = video_data['View Count'].values[-window_size:]\n",
    "input_like = video_data['Like Count'].values[-window_size:]\n",
    "input_comment = video_data['Comment Count'].values[-window_size:]"
   ]
  },
  {
   "cell_type": "code",
   "execution_count": 31,
   "id": "e9878f61-e00a-40fc-8bb4-0f24b67eb499",
   "metadata": {},
   "outputs": [],
   "source": [
    "input_data = np.column_stack((input_view, input_like, input_comment))"
   ]
  },
  {
   "cell_type": "code",
   "execution_count": 32,
   "id": "7395f938-ad21-4c33-b3c5-0c226c24bfc5",
   "metadata": {},
   "outputs": [],
   "source": [
    "# Reshape to (1, 30, 3) because model expects 3D input: (batch, timesteps, features)\n",
    "input_sequence = input_data.reshape(1, window_size, 3)\n",
    "\n",
    "# Number of future steps to predict\n",
    "future_steps = 20\n",
    "predictions = []"
   ]
  },
  {
   "cell_type": "code",
   "execution_count": 33,
   "id": "1867e062-cc1f-4093-abd8-9624819e400d",
   "metadata": {},
   "outputs": [],
   "source": [
    "for i in range(future_steps):\n",
    "    # Predict the next value (this returns the predicted View Count)\n",
    "    predicted = model.predict(input_sequence, verbose=0)  # shape: (1,1)\n",
    "    predicted_view = predicted[0, 0]\n",
    "\n",
    "    # Store the prediction\n",
    "    predictions.append(predicted_view)\n",
    "\n",
    "    # Now we need to update the input_sequence for the next prediction:\n",
    "    # Slide the window forward by 1:\n",
    "    # Remove the first timestep and add the new predicted View Count at the end.\n",
    "    # For Like Count and Comment Count, since we have no future data, let's keep them\n",
    "    # the same as the last known timestep.\n",
    "    last_like = input_sequence[0, -1, 1]    # last timestep like count\n",
    "    last_comment = input_sequence[0, -1, 2] # last timestep comment count\n",
    "\n",
    "    # Create a new row with the predicted view and the same like/comment values\n",
    "    new_row = np.array([[predicted_view, last_like, last_comment]])  # shape: (1,3)\n",
    "\n",
    "    # Slide the sequence:\n",
    "    current_sequence = input_sequence[0, 1:, :]       # shape: (29, 3)\n",
    "    new_sequence = np.vstack([current_sequence, new_row])  # shape: (30, 3)\n",
    "\n",
    "    # Reshape back to (1, 30, 3) for next iteration\n",
    "    input_sequence = new_sequence.reshape(1, window_size, 3)\n"
   ]
  },
  {
   "cell_type": "code",
   "execution_count": 34,
   "id": "0721f9a1-50b4-48ac-bddf-b34acb101c0a",
   "metadata": {},
   "outputs": [
    {
     "name": "stdout",
     "output_type": "stream",
     "text": [
      "Predicted View Counts for the next 20 sessions:\n",
      "Future session 31: 1.179910659790039\n",
      "Future session 32: 1.4271451234817505\n",
      "Future session 33: 1.4824789762496948\n",
      "Future session 34: 1.5074127912521362\n",
      "Future session 35: 1.5193861722946167\n",
      "Future session 36: 1.5291928052902222\n",
      "Future session 37: 1.5376594066619873\n",
      "Future session 38: 1.544934868812561\n",
      "Future session 39: 1.5510704517364502\n",
      "Future session 40: 1.556159257888794\n",
      "Future session 41: 1.5603259801864624\n",
      "Future session 42: 1.5637062788009644\n",
      "Future session 43: 1.5664303302764893\n",
      "Future session 44: 1.5686382055282593\n",
      "Future session 45: 1.57160484790802\n",
      "Future session 46: 1.606502890586853\n",
      "Future session 47: 1.6090211868286133\n",
      "Future session 48: 1.5899131298065186\n",
      "Future session 49: 1.5854535102844238\n",
      "Future session 50: 1.5857608318328857\n"
     ]
    }
   ],
   "source": [
    "# Print the predictions\n",
    "print(\"Predicted View Counts for the next 20 sessions:\")\n",
    "for idx, val in enumerate(predictions, start=1):\n",
    "    print(f\"Future session {30 + idx}: {val}\")"
   ]
  },
  {
   "cell_type": "code",
   "execution_count": 35,
   "id": "f11a4c51-b29e-4386-b510-5445b1ad722a",
   "metadata": {},
   "outputs": [
    {
     "data": {
      "image/png": "[encoded data removed]",
      "text/plain": [
       "<Figure size 1000x600 with 1 Axes>"
      ]
     },
     "metadata": {},
     "output_type": "display_data"
    }
   ],
   "source": [
    "import matplotlib.pyplot as plt\n",
    "\n",
    "# Create a range of future sessions\n",
    "future_sessions = [30 + idx for idx in range(len(predictions))]\n",
    "\n",
    "# Plot the predictions\n",
    "plt.figure(figsize=(10, 6))\n",
    "plt.plot(future_sessions, predictions, marker='o', label='Predicted View Counts')\n",
    "plt.title('Predicted View Counts for Future Sessions')\n",
    "plt.xlabel('Future Session')\n",
    "plt.ylabel('Predicted View Count')\n",
    "plt.grid(True)\n",
    "plt.legend()\n",
    "plt.show()\n"
   ]
  },
  {
   "cell_type": "code",
   "execution_count": null,
   "id": "4beee3f8-f69d-435b-9d65-82db0b4684fd",
   "metadata": {},
   "outputs": [],
   "source": []
  }
 ],
 "metadata": {
  "kernelspec": {
   "display_name": "Python 3 (ipykernel)",
   "language": "python",
   "name": "python3"
  },
  "language_info": {
   "codemirror_mode": {
    "name": "ipython",
    "version": 3
   },
   "file_extension": ".py",
   "mimetype": "text/x-python",
   "name": "python",
   "nbconvert_exporter": "python",
   "pygments_lexer": "ipython3",
   "version": "3.12.4"
  }
 },
 "nbformat": 4,
 "nbformat_minor": 5
}
